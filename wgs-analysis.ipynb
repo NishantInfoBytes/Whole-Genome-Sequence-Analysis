{
 "cells": [
  {
   "cell_type": "markdown",
   "id": "22ce0206-3841-40f2-8f55-b6a207d78773",
   "metadata": {},
   "source": [
    "# `Whole-Genome-Sequence-Analysis`"
   ]
  },
  {
   "cell_type": "raw",
   "id": "4089a620-1567-4d0d-b40a-be3f3b1ae69f",
   "metadata": {},
   "source": [
    "Downloading the Data from ENA(European Nucleotide Archive)"
   ]
  },
  {
   "cell_type": "raw",
   "id": "c8f2f568-60b2-4554-bdbe-dfa8e11179d0",
   "metadata": {},
   "source": [
    "!wget ftp://ftp.sra.ebi.ac.uk/vol1/fastq/SRR062/SRR062634/SRR062634_1.fastq.gz\n",
    "!wget ftp://ftp.sra.ebi.ac.uk/vol1/fastq/SRR062/SRR062634/SRR062634_2.fastq.gz"
   ]
  },
  {
   "cell_type": "code",
   "execution_count": 24,
   "id": "ff709977-d186-4114-8df8-211376d52f91",
   "metadata": {
    "tags": []
   },
   "outputs": [],
   "source": [
    "#Tool Installation\n",
    "#!conda install -c bioconda fastqc\n",
    "#!conda install -c bioconda multiqc\n",
    "#!conda install -c bioconda trimmmomatic\n",
    "#!conda install -c bioconda bwa\n",
    "#!conda install -c bioconda samtools\n",
    "#!conda install -c bioconda gatk4"
   ]
  },
  {
   "cell_type": "markdown",
   "id": "2e359880-53d5-4593-9232-9c8efe5fe856",
   "metadata": {},
   "source": [
    "## `1. Quality Analysis`"
   ]
  },
  {
   "cell_type": "code",
   "execution_count": 3,
   "id": "9bc869d8-5871-4a62-8eb8-253db3efa7be",
   "metadata": {},
   "outputs": [],
   "source": [
    "!mkdir -p fastqc_raw multiqc_raw"
   ]
  },
  {
   "cell_type": "code",
   "execution_count": 7,
   "id": "8537edc8-3487-48d7-8b78-36651a8b3fca",
   "metadata": {},
   "outputs": [],
   "source": [
    "!fastqc -o fastqc_raw/ data/*.gz"
   ]
  },
  {
   "cell_type": "code",
   "execution_count": 8,
   "id": "fed8c571-1708-49cb-9bcf-d929098dfba9",
   "metadata": {},
   "outputs": [],
   "source": [
    "!multiqc fastqc_raw/ -o multiqc_raw/"
   ]
  },
  {
   "cell_type": "markdown",
   "id": "4684485d-1c98-4498-b693-ec3fae6403b5",
   "metadata": {},
   "source": [
    "## `2. Quality Control`"
   ]
  },
  {
   "cell_type": "code",
   "execution_count": 6,
   "id": "f1d5b0fa-aa75-46d1-ab27-0685838b11aa",
   "metadata": {},
   "outputs": [],
   "source": [
    "!mkdir -p trim_data "
   ]
  },
  {
   "cell_type": "code",
   "execution_count": 9,
   "id": "debaf476-8629-4b19-bd75-4572d2c41816",
   "metadata": {},
   "outputs": [],
   "source": [
    "!trimmomatic PE -phred33 data/SRR062634_1.fastq.gz data/SRR062634_2.fastq.gz trim_data/SRR062634_1_paired.fq.gz trim_data/SRR062634_1_unpaired.fq.gz trim_data/SRR062634_2_paired.fq.gz trim_data/SRR062634_2_unpaired.fq.gz ILLUMINACLIP:\"/home/nishant.shekhar/miniconda3/pkgs/trimmomatic-0.39-hdfd78af_2/share/trimmomatic-0.39-2/adapters/TruSeq3-PE.fa\":2:30:10 LEADING:3 TRAILING:3 SLIDINGWINDOW:4:15 MINLEN:36"
   ]
  },
  {
   "cell_type": "code",
   "execution_count": null,
   "id": "32ceb19c-39fe-40d4-a233-5d7a07f16ae6",
   "metadata": {},
   "outputs": [],
   "source": [
    "# Run fastqc and mutiqc to check the quality of the reads after trimming "
   ]
  },
  {
   "cell_type": "code",
   "execution_count": 10,
   "id": "851324fa-4515-4244-ae9a-64da01e60c36",
   "metadata": {},
   "outputs": [],
   "source": [
    "!fastqc trim_data/*.gz -o trim_data/"
   ]
  },
  {
   "cell_type": "code",
   "execution_count": 11,
   "id": "8f913ec7-31aa-4fe4-83a7-cd2f2e7330ec",
   "metadata": {},
   "outputs": [],
   "source": [
    "!multiqc trim_data/ -o trim_data"
   ]
  },
  {
   "cell_type": "markdown",
   "id": "384e5121-b1d8-4057-b4a8-75507714cc2f",
   "metadata": {},
   "source": [
    "## `3. Indexing with BWA`"
   ]
  },
  {
   "cell_type": "code",
   "execution_count": null,
   "id": "ac40dbcc-dfa0-4c11-9dd3-fff10dcfa846",
   "metadata": {},
   "outputs": [],
   "source": [
    "#Download the genome file "
   ]
  },
  {
   "cell_type": "code",
   "execution_count": 12,
   "id": "cfffaca7-3c99-4c49-864e-cf604a138f57",
   "metadata": {
    "tags": []
   },
   "outputs": [],
   "source": [
    "!wget https://ftp.ncbi.nlm.nih.gov/genomes/all/GCF/000/001/405/GCF_000001405.40_GRCh38.p14/GCF_000001405.40_GRCh38.p14_genomic.fna.gz"
   ]
  },
  {
   "cell_type": "code",
   "execution_count": null,
   "id": "53ee0909-0778-4aa8-bb23-3d5755e10881",
   "metadata": {},
   "outputs": [],
   "source": [
    "#Download the annotation file "
   ]
  },
  {
   "cell_type": "code",
   "execution_count": 13,
   "id": "795e41a2-f2dd-4769-84ea-9c39e9888d43",
   "metadata": {
    "tags": []
   },
   "outputs": [],
   "source": [
    "!wget https://ftp.ncbi.nlm.nih.gov/genomes/all/GCF/000/001/405/GCF_000001405.40_GRCh38.p14/GCF_000001405.40_GRCh38.p14_genomic.gff.gz"
   ]
  },
  {
   "cell_type": "code",
   "execution_count": 15,
   "id": "7cb73617-c583-4abd-a041-a8a2ece489a7",
   "metadata": {
    "tags": []
   },
   "outputs": [],
   "source": [
    "# Unzipping both genome and h=gtf file"
   ]
  },
  {
   "cell_type": "code",
   "execution_count": 1,
   "id": "08c18cdf-a737-4897-a3e5-2ccc3fe13c76",
   "metadata": {},
   "outputs": [],
   "source": [
    "!gzip -d GCF_000001405.40_GRCh38.p14_genomic.fna.gz\n",
    "!gzip -d GCF_000001405.40_GRCh38.p14_genomic.gff.gz"
   ]
  },
  {
   "cell_type": "code",
   "execution_count": 3,
   "id": "8bc3a70e-a08d-49f3-b14a-2637da4e3a70",
   "metadata": {
    "tags": []
   },
   "outputs": [
    {
     "name": "stdout",
     "output_type": "stream",
     "text": [
      "mv: cannot stat 'GCF_000001405.40_GRCh38.p14_genomic.fna': No such file or directory\n"
     ]
    }
   ],
   "source": [
    "!mv GCF_000001405.40_GRCh38.p14_genomic.fna hg38.fa"
   ]
  },
  {
   "cell_type": "code",
   "execution_count": 4,
   "id": "0710a9e3-c0ea-48c9-bd02-ae3dcf2b8586",
   "metadata": {
    "tags": []
   },
   "outputs": [],
   "source": [
    "!mkdir -p genome"
   ]
  },
  {
   "cell_type": "code",
   "execution_count": 6,
   "id": "99e1d928-4a3a-458b-b1ca-a68959504cd4",
   "metadata": {
    "tags": []
   },
   "outputs": [],
   "source": [
    "!mv hg38.fa genome/ # Moving the genome file to directory genome"
   ]
  },
  {
   "cell_type": "code",
   "execution_count": 6,
   "id": "78bc9fc9-41fc-40f6-aebb-457b3f3d39af",
   "metadata": {
    "tags": []
   },
   "outputs": [],
   "source": [
    "!bwa index genome/hg38.fa"
   ]
  },
  {
   "cell_type": "markdown",
   "id": "ec12e160-824f-416a-aed3-6f4841d08c07",
   "metadata": {},
   "source": [
    "## `4. Mapping/Alignment with BWA`"
   ]
  },
  {
   "cell_type": "code",
   "execution_count": 5,
   "id": "b31edb3a-b2dc-4f15-b6a0-559b33a08acd",
   "metadata": {
    "tags": []
   },
   "outputs": [],
   "source": [
    "!bwa mem -t 4 -R \"@RG\\tID:SRR062634\\tPL:ILLUMINA\\tSM:SRR062634\" \\\n",
    "    genome/hg38.fa trim_data/SRR062634_1_paired.fq.gz trim_data/SRR062634_2_paired.fq.gz \\\n",
    "    | samtools view -Sb - > SRR062634.bam"
   ]
  },
  {
   "cell_type": "markdown",
   "id": "ace36b7a-44da-4547-a995-e255a1f8552e",
   "metadata": {},
   "source": [
    "## `5.Sorting the bam file with SAMTOOLS`"
   ]
  },
  {
   "cell_type": "code",
   "execution_count": 17,
   "id": "36064db1-cae6-43db-b163-c5fb89cd5281",
   "metadata": {},
   "outputs": [],
   "source": [
    "!samtools sort SRR062634.bam -o SRR062634_sort.bam"
   ]
  },
  {
   "cell_type": "markdown",
   "id": "e5256500-f5ea-4dcc-88ec-9fb4ff43a671",
   "metadata": {},
   "source": [
    "## `6.Removing the MarkDuplicates With tool GATK4`"
   ]
  },
  {
   "cell_type": "code",
   "execution_count": 20,
   "id": "b89cd8a6-ed28-4e30-b35b-7d8299b4047b",
   "metadata": {
    "tags": []
   },
   "outputs": [],
   "source": [
    "#We can use Multiple Options \\\n",
    "    #gatk MarkDuplicate\n",
    "    #gatk MarkDuplicatesSpark"
   ]
  },
  {
   "cell_type": "code",
   "execution_count": 14,
   "id": "94b008e1-7973-4002-ad3b-3ec9048f2add",
   "metadata": {
    "tags": []
   },
   "outputs": [],
   "source": [
    "!gatk MarkDuplicatesSpark -I SRR062634_sort.bam -O marked_duplicates.bam -M marked_dup_metrics.txt --conf 'spark.executor.cores=5'"
   ]
  },
  {
   "cell_type": "code",
   "execution_count": 19,
   "id": "f8087895-0972-4d09-9df5-63a81e2cd08f",
   "metadata": {
    "tags": []
   },
   "outputs": [],
   "source": [
    "## Flags explanation for MarkDupliactesSpark : https://gatk.broadinstitute.org/hc/en-us/articles/4414594330011-MarkDuplicatesSpark"
   ]
  },
  {
   "cell_type": "markdown",
   "id": "ca82cd28-5bb3-4fa4-9c43-28cdb5229e49",
   "metadata": {},
   "source": [
    "## `7.BQSR(Base Quality Score Recalibration)`"
   ]
  },
  {
   "cell_type": "raw",
   "id": "cb7d537c-4763-4ace-98e2-f94eedb79d6e",
   "metadata": {},
   "source": [
    "# Download the known sites vcf file \n",
    "https://console.cloud.google.com/storage/browser/gcp-public-data--broad-references/hg38/v0"
   ]
  },
  {
   "cell_type": "raw",
   "id": "602f22a5-a3a4-4278-9bb3-20d6c5e6148f",
   "metadata": {},
   "source": [
    "# 1. Build the Model using BaseRecalibrator"
   ]
  },
  {
   "cell_type": "code",
   "execution_count": null,
   "id": "da060b31-9aaf-4a80-a0e1-ebdef8216289",
   "metadata": {},
   "outputs": [],
   "source": [
    "!gatk BaseRecalibrator -R genome/hg38.fa -I marked_duplicates.bam --known-sites dbsnp_138.hg38.vcf --known-sites  Mills_and_1000G_gold_standard.indels.hg38.sites.vcf --known-sites CosmicVariants.vcf -O recal_data.table"
   ]
  },
  {
   "cell_type": "markdown",
   "id": "e82a4718-27ec-42d4-9f78-f73eceab71e8",
   "metadata": {},
   "source": [
    "## If you get error then the do the following mentioned thing \n",
    "The dbsnp_138, Mill_and_1000G and Cosariants.vcf vcfs files must be sorted according to the reference fasta dictionary using `gatk’s SortVcf`"
   ]
  },
  {
   "cell_type": "raw",
   "id": "ef6aabde-60c5-4d74-8635-0e89f665a990",
   "metadata": {
    "tags": []
   },
   "source": [
    "# 2. Apply the model to adjust the base quality scores"
   ]
  },
  {
   "cell_type": "code",
   "execution_count": null,
   "id": "0f3c3d36-ac01-49ea-874d-23a721afcb23",
   "metadata": {},
   "outputs": [],
   "source": [
    "!gatk ApplyBQSR -bqsr recal_data.table -R genome/hg38.fa -I marked_duplicates.bam -O sample_recal_reads.bam --create-output-bam-index true"
   ]
  },
  {
   "cell_type": "markdown",
   "id": "5bb43f1a-4bce-49d2-9081-db49a69eee33",
   "metadata": {},
   "source": [
    "## `8.Variant Calling using Haplotype Caller(Germline Variants)`"
   ]
  },
  {
   "cell_type": "code",
   "execution_count": null,
   "id": "1ff6e7c5-0cf9-4b4e-9a46-95349278ed39",
   "metadata": {},
   "outputs": [],
   "source": [
    "!gatk HaplotypeCaller -R genome/hg38.fa -I sample_recal_reads.bam -O raw_variants.vcf"
   ]
  }
 ],
 "metadata": {
  "kernelspec": {
   "display_name": "Python 3 (ipykernel)",
   "language": "python",
   "name": "python3"
  },
  "language_info": {
   "codemirror_mode": {
    "name": "ipython",
    "version": 3
   },
   "file_extension": ".py",
   "mimetype": "text/x-python",
   "name": "python",
   "nbconvert_exporter": "python",
   "pygments_lexer": "ipython3",
   "version": "3.7.6"
  }
 },
 "nbformat": 4,
 "nbformat_minor": 5
}
